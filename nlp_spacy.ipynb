{
  "nbformat": 4,
  "nbformat_minor": 0,
  "metadata": {
    "colab": {
      "name": "nlp-spacy.ipynb",
      "provenance": [],
      "collapsed_sections": [],
      "authorship_tag": "ABX9TyPTzPzHTLmfo0VL+hNR4bIM"
    },
    "kernelspec": {
      "name": "python3",
      "display_name": "Python 3"
    }
  },
  "cells": [
    {
      "cell_type": "code",
      "metadata": {
        "id": "LgXYFNweGOWN"
      },
      "source": [
        "!python -m spacy download en_core_web_lg"
      ],
      "execution_count": null,
      "outputs": []
    },
    {
      "cell_type": "code",
      "metadata": {
        "id": "l6lh7sX_GTB0"
      },
      "source": [
        "import spacy\n",
        "import requests\n",
        "import re\n",
        "from bs4 import BeautifulSoup\n",
        "from urllib.parse import urlparse, unquote\n",
        "from collections import Counter\n",
        "import string"
      ],
      "execution_count": 78,
      "outputs": []
    },
    {
      "cell_type": "code",
      "metadata": {
        "id": "h0nYdVwNgcSR"
      },
      "source": [
        "nlp = spacy.load('en_core_web_lg')"
      ],
      "execution_count": 79,
      "outputs": []
    },
    {
      "cell_type": "code",
      "metadata": {
        "id": "1UnXvXl7MkeH"
      },
      "source": [
        "# Define and fetch topic results from a google search\n",
        "\n",
        "topic = 'Pollution'\n",
        "\n",
        "topic = topic.replace(' ', '+')\n",
        "resp = requests.get(f'https://www.google.com/search?q={topic}+site%3Awikipedia.org')\n",
        "soup = BeautifulSoup(resp.content, \"html.parser\")"
      ],
      "execution_count": 105,
      "outputs": []
    },
    {
      "cell_type": "code",
      "metadata": {
        "id": "F9aGlHhZJXke"
      },
      "source": [
        "# Parse google search results and collect all wikipedia links\n",
        "# Clean the collected links to process them further\n",
        "\n",
        "wiki_domain = 'https://en.wikipedia.org/wiki/'\n",
        "def extract_topic(link): return link[len(wiki_domain):].replace('_', ' ')\n",
        "def get_base_link(link):\n",
        "  o = urlparse(unquote(link))\n",
        "  return f'{o.scheme}://{o.netloc}{o.path}'\n",
        "\n",
        "all_links      = map(lambda link: link['href'], soup.find_all('a'))\n",
        "search_links   = filter(lambda link: link.startswith('/url?q='), all_links)\n",
        "stripped_links = map(lambda link: link[7:link.find('&')], search_links)\n",
        "wiki_links     = filter(lambda link: link.startswith(wiki_domain), stripped_links)\n",
        "base_links     = map(get_base_link, wiki_links)\n",
        "nocateg_links  = filter(lambda link: not extract_topic(link).startswith('Category:'), base_links)\n",
        "\n",
        "links = list(set(nocateg_links))"
      ],
      "execution_count": 106,
      "outputs": []
    },
    {
      "cell_type": "code",
      "metadata": {
        "id": "LeyXE28vZi6T"
      },
      "source": [
        "# Sort collected links in order of relevance\n",
        "\n",
        "topic_doc = nlp(topic)\n",
        "\n",
        "related_topics = [extract_topic(link) for link in links]\n",
        "similarity_map = {topic: topic_doc.similarity(nlp(topic)) for topic in related_topics}\n",
        "links.sort(reverse=True, key=lambda link: similarity_map[extract_topic(link)])"
      ],
      "execution_count": 107,
      "outputs": []
    },
    {
      "cell_type": "code",
      "metadata": {
        "id": "3rzALx_bR96w"
      },
      "source": [
        "# Get all textual data from collected links\n",
        "\n",
        "docs_map = {}\n",
        "original_len = 0\n",
        "\n",
        "for link in links:\n",
        "  resp = requests.get(link)\n",
        "  soup = BeautifulSoup(resp.content, \"html.parser\")\n",
        "  paragraphs = soup.find_all('p')\n",
        "  text = ' '.join([p.get_text() for p in paragraphs])\n",
        "  text = re.sub(r'\\[\\d+\\]+', '', text)\n",
        "  docs_map[link] = nlp(text)\n",
        "\n",
        "  original_len += len(text)"
      ],
      "execution_count": 108,
      "outputs": []
    },
    {
      "cell_type": "code",
      "metadata": {
        "id": "z0kPGYfWdcrO"
      },
      "source": [
        "# Generate Word Frequency table\n",
        "\n",
        "wordFreq = Counter()\n",
        "\n",
        "for doc in docs_map.values():\n",
        "  for token in doc:\n",
        "    if not token.is_stop and token.lemma_ not in [*string.punctuation,'\\n ']:\n",
        "      wordFreq[token.lemma_] += 1\n"
      ],
      "execution_count": 109,
      "outputs": []
    },
    {
      "cell_type": "code",
      "metadata": {
        "id": "VvAmjUAnmess"
      },
      "source": [
        "# Rank sentences based on Word Frequency table\n",
        "\n",
        "sentence_scores = Counter()\n",
        "\n",
        "all_sent_len = 0\n",
        "total_sent = 0\n",
        "\n",
        "for doc in docs_map.values():\n",
        "  for sent in doc.sents:\n",
        "    for word in sent:\n",
        "      sentence_scores[sent.text] += wordFreq[word.lemma_]\n",
        "    sentence_scores[sent.text] = sentence_scores[sent.text] / len(sent)\n",
        "    total_sent += 1\n",
        "    all_sent_len += len(sent.text)\n",
        "    \n",
        "avg_sent_len = all_sent_len // total_sent"
      ],
      "execution_count": 110,
      "outputs": []
    },
    {
      "cell_type": "code",
      "metadata": {
        "id": "wNIKo3F_vp0l",
        "outputId": "63630964-fcba-4fc4-94f5-b1a2fc4992af",
        "colab": {
          "base_uri": "https://localhost:8080/",
          "height": 75
        }
      },
      "source": [
        "# Generate summary\n",
        "\n",
        "avg_sent_score = sum(sentence_scores.values()) // len(sentence_scores)\n",
        "\n",
        "summary = []\n",
        "summary_threshold = 3\n",
        "\n",
        "for sent, score in sentence_scores.items():\n",
        "  if score > (avg_sent_score * summary_threshold) and len(sent) > (avg_sent_len / summary_threshold):\n",
        "    clean_sent = sent.strip();\n",
        "    summary.append(clean_sent.replace('\\n', ' '))\n",
        "\n",
        "result = ' '.join(summary);\n",
        "final_perc = (len(result) * 100) / original_len\n",
        "print(f'Final size: {round(final_perc, 2)}% of original text')\n",
        "print(result)"
      ],
      "execution_count": 111,
      "outputs": [
        {
          "output_type": "stream",
          "text": [
            "Final size: 1.58% of original text\n",
            "Pollution is often classed as point source or nonpoint source pollution. Major forms of pollution include air pollution, light pollution, litter, noise pollution, plastic pollution, soil contamination, radioactive contamination, thermal pollution, visual pollution, and water pollution. Air pollution has always accompanied civilizations. Severe incidents of pollution helped increase consciousness. Pollution can also create costs for the firms producing the pollution. Motor vehicle emissions are one of the leading causes of air pollution. Pollution control is a term used in environmental management. The Rossby waves impact on air pollution has been observed in the daily fluctuations in surface air pollution. Water pollution results when contaminants are introduced into the natural environment. Water pollution can be classified as surface water or groundwater pollution. Marine pollution and nutrient pollution are subsets of water pollution. Sources of water pollution are either point sources or non-point sources. Control of water pollution requires appropriate infrastructure and management plans. India and China are two countries with high levels of water pollution. Surface water pollution includes pollution of rivers, lakes and oceans. A subset of surface water pollution is marine pollution. Thermal pollution, unlike chemical pollution, results in a change in the physical properties of water. Noise pollution affects both health and behavior. Both human activity and natural processes can generate air pollution. Outdoor air pollution alone causes 2.1 to 4.21 million deaths annually. Various pollution control technologies and strategies are available to reduce air pollution. India has the highest death rate due to air pollution. Urban outdoor air pollution is estimated to cause 1.3 million deaths worldwide per year. each year because air pollution levels violate federal standards. Air pollution exposure also cause lung cancer in non smokers. These productivity losses are caused by deaths due to diseases caused by air pollution. Various pollution control technologies and strategies are available to reduce air pollution. Air pollution hotspots are areas where air pollution emissions expose individuals to increased negative health effects. Eighty percent of marine pollution comes from land. Nutrient pollution, a form of water pollution, refers to contamination by excessive inputs of nutrients. Nonpoint source pollution occurs when the pollution comes from ill-defined and diffuse sources. Much anthropogenic pollution ends up in the ocean. An overcrowding of an area causes visual pollution. Plastic pollution can afflict land, waterways and oceans. There are three major forms of plastic that contribute to plastic pollution: microplastics as well as mega- and macro-plastics. However, plastic tap water pollution remains under-studied, as are the links of how pollution transfers between humans, air, water, and soil. Even though freshwater pollution is the major contributor to marine plastic pollution there is little studies done and data collection for the amount of pollution going from freshwater to marine. Sea turtles are affected by plastic pollution. Plastic pollution does not only affect animals that live solely in oceans. Although biodegradable and degradable plastics have helped reduce plastic pollution, there are some drawbacks. High levels of air pollution in China's cities caused to 350,000–400,000 premature deaths. It is managing to reduce air and water pollution. A point source of pollution is a single identifiable source of air, water, thermal, noise or light pollution.\n"
          ],
          "name": "stdout"
        }
      ]
    }
  ]
}